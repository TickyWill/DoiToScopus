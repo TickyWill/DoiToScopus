{
 "cells": [
  {
   "cell_type": "markdown",
   "id": "2fb6646a-24d5-46e6-aedf-5549b569bde1",
   "metadata": {},
   "source": [
    "# dts_app\n",
    "\n",
    "The package allows correcting the wrong data extracted from the Scopus database as response to a complex request using the \"https://pypi.org/project/ScopusApyJson/\"ScopusApyJson\" package based on the Elsevier's API."
   ]
  },
  {
   "cell_type": "code",
   "execution_count": null,
   "id": "1b269669-7619-44ed-8822-c9ebc10b8483",
   "metadata": {},
   "outputs": [],
   "source": [
    "# Local imports\n",
    "from dtsgui.main_page import AppMain\n",
    "\n",
    "def run_dts():\n",
    "    \"\"\"Main function used for starting the DoiToScopus application.\n",
    "    \"\"\"\n",
    "    try:\n",
    "        app = AppMain()\n",
    "        app.mainloop()\n",
    "    except Exception as err:\n",
    "        print(err)\n",
    "\n",
    "if __name__ == \"__main__\":\n",
    "    run_dts()\n"
   ]
  },
  {
   "cell_type": "code",
   "execution_count": null,
   "id": "b49e1ea4-6092-45e7-ad3f-33bed4f99692",
   "metadata": {},
   "outputs": [],
   "source": []
  }
 ],
 "metadata": {
  "kernelspec": {
   "display_name": "DoiToScopus_ker",
   "language": "python",
   "name": "doitoscopus_ker"
  },
  "language_info": {
   "codemirror_mode": {
    "name": "ipython",
    "version": 3
   },
   "file_extension": ".py",
   "mimetype": "text/x-python",
   "name": "python",
   "nbconvert_exporter": "python",
   "pygments_lexer": "ipython3",
   "version": "3.9.7"
  }
 },
 "nbformat": 4,
 "nbformat_minor": 5
}
